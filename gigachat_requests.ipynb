{
 "cells": [
  {
   "metadata": {},
   "cell_type": "markdown",
   "source": "Получение токена доступа",
   "id": "4e6b2a515f3d92ac"
  },
  {
   "metadata": {
    "ExecuteTime": {
     "end_time": "2024-07-10T18:38:14.153130Z",
     "start_time": "2024-07-10T18:38:14.149163Z"
    }
   },
   "cell_type": "code",
   "source": [
    "import os\n",
    "from dotenv import load_dotenv\n",
    "\n",
    "file = \"auth.env\"\n",
    "if os.path.exists(file):\n",
    "    load_dotenv(file)"
   ],
   "id": "f20f3aa160d48ff0",
   "outputs": [],
   "execution_count": 75
  },
  {
   "metadata": {
    "ExecuteTime": {
     "end_time": "2024-07-10T18:38:15.423280Z",
     "start_time": "2024-07-10T18:38:15.419669Z"
    }
   },
   "cell_type": "code",
   "source": [
    "import base64\n",
    "b = base64.b64encode(bytes(os.environ.get('GIGACHAT_ID')+os.environ.get('GIGACHAT_SECRET'), 'utf-8'))\n",
    "base64_auth_data = str(b.decode('utf-8'))\n",
    "if(os.environ.get('GIGACHAT_AUTH') is not None):\n",
    "    base64_auth_data = str(os.environ.get('GIGACHAT_AUTH'))"
   ],
   "id": "b6c3a0fceeb50fa0",
   "outputs": [],
   "execution_count": 76
  },
  {
   "cell_type": "code",
   "id": "initial_id",
   "metadata": {
    "collapsed": true,
    "ExecuteTime": {
     "end_time": "2024-07-10T18:38:16.813552Z",
     "start_time": "2024-07-10T18:38:16.714284Z"
    }
   },
   "source": [
    "import requests\n",
    "import uuid\n",
    "\n",
    "request_id = uuid.uuid4()\n",
    "url = \"https://ngw.devices.sberbank.ru:9443/api/v2/oauth\"\n",
    "\n",
    "payload='scope=GIGACHAT_API_PERS'\n",
    "headers = {\n",
    "    'Content-Type': 'application/x-www-form-urlencoded',\n",
    "    'Accept': 'application/json',\n",
    "    'RqUID': request_id.__str__(),\n",
    "    'Authorization': f'Basic {os.environ.get('GIGACHAT_AUTH')}'\n",
    "}\n",
    "\n",
    "response = requests.request(\"POST\", url, headers=headers, data=payload, verify=False)"
   ],
   "outputs": [
    {
     "name": "stderr",
     "output_type": "stream",
     "text": [
      "C:\\Users\\Matvey\\miniconda3\\Lib\\site-packages\\urllib3\\connectionpool.py:1099: InsecureRequestWarning: Unverified HTTPS request is being made to host 'ngw.devices.sberbank.ru'. Adding certificate verification is strongly advised. See: https://urllib3.readthedocs.io/en/latest/advanced-usage.html#tls-warnings\n",
      "  warnings.warn(\n"
     ]
    }
   ],
   "execution_count": 77
  },
  {
   "metadata": {
    "ExecuteTime": {
     "end_time": "2024-07-10T18:39:25.440740Z",
     "start_time": "2024-07-10T18:39:25.437602Z"
    }
   },
   "cell_type": "code",
   "source": "access_token = response.json()['access_token']",
   "id": "d8861a827658ae45",
   "outputs": [],
   "execution_count": 79
  },
  {
   "metadata": {},
   "cell_type": "markdown",
   "source": "Ввод информации",
   "id": "62bb26682d0bf70"
  },
  {
   "metadata": {
    "ExecuteTime": {
     "end_time": "2024-07-10T18:33:20.943060Z",
     "start_time": "2024-07-10T18:33:20.940099Z"
    }
   },
   "cell_type": "code",
   "source": [
    "title = \"Вася Пупкин\"\n",
    "text = \"Вася Пупкин учится в 10 классе православной гимназии. Утром он ходит на рыбалку, а потом играет в Доту.\""
   ],
   "id": "283fbf0b9b428ab2",
   "outputs": [],
   "execution_count": 62
  },
  {
   "metadata": {},
   "cell_type": "markdown",
   "source": "Отправка запроса и получение ответа",
   "id": "e5873f7cb37be9e5"
  },
  {
   "metadata": {
    "ExecuteTime": {
     "end_time": "2024-07-10T18:39:52.629528Z",
     "start_time": "2024-07-10T18:39:51.834032Z"
    }
   },
   "cell_type": "code",
   "source": [
    "import json\n",
    "\n",
    "url = \"https://gigachat.devices.sberbank.ru/api/v1/chat/completions\"\n",
    "\n",
    "payload = json.dumps({\n",
    "    \"model\": \"GigaChat\",\n",
    "    \"messages\": [\n",
    "        {\n",
    "            \"role\": \"user\",\n",
    "            \"content\": f\"Оцени от 0 до 100, насколько текст подходит заголовку. Выведи цифру. Заголовок: {title}. Текст: {text}\"\n",
    "        }\n",
    "    ],\n",
    "    \"stream\": False,\n",
    "    \"repetition_penalty\": 1\n",
    "})\n",
    "headers = {\n",
    "    'Content-Type': 'application/json',\n",
    "    'Accept': 'application/json',\n",
    "    'Authorization': f'Bearer {access_token}'\n",
    "}\n",
    "\n",
    "response = requests.request(\"POST\", url, headers=headers, data=payload, verify=False)"
   ],
   "id": "8a906020b68d4c1b",
   "outputs": [
    {
     "name": "stderr",
     "output_type": "stream",
     "text": [
      "C:\\Users\\Matvey\\miniconda3\\Lib\\site-packages\\urllib3\\connectionpool.py:1099: InsecureRequestWarning: Unverified HTTPS request is being made to host 'gigachat.devices.sberbank.ru'. Adding certificate verification is strongly advised. See: https://urllib3.readthedocs.io/en/latest/advanced-usage.html#tls-warnings\n",
      "  warnings.warn(\n"
     ]
    }
   ],
   "execution_count": 80
  },
  {
   "metadata": {
    "ExecuteTime": {
     "end_time": "2024-07-10T18:39:55.081374Z",
     "start_time": "2024-07-10T18:39:55.078448Z"
    }
   },
   "cell_type": "code",
   "source": [
    "response_message = response.json()[\"choices\"][0][\"message\"][\"content\"]\n",
    "print(response_message)"
   ],
   "id": "55360d5cebad6249",
   "outputs": [
    {
     "name": "stdout",
     "output_type": "stream",
     "text": [
      "60\n"
     ]
    }
   ],
   "execution_count": 81
  }
 ],
 "metadata": {
  "kernelspec": {
   "display_name": "Python 3",
   "language": "python",
   "name": "python3"
  },
  "language_info": {
   "codemirror_mode": {
    "name": "ipython",
    "version": 2
   },
   "file_extension": ".py",
   "mimetype": "text/x-python",
   "name": "python",
   "nbconvert_exporter": "python",
   "pygments_lexer": "ipython2",
   "version": "2.7.6"
  }
 },
 "nbformat": 4,
 "nbformat_minor": 5
}
